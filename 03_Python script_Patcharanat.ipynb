{
 "cells": [
  {
   "cell_type": "markdown",
   "id": "1b9ce354",
   "metadata": {},
   "source": [
    "# Q1.2: SQL"
   ]
  },
  {
   "cell_type": "code",
   "execution_count": 18,
   "id": "bc739d11",
   "metadata": {},
   "outputs": [],
   "source": [
    "from pyspark.sql import SparkSession\n",
    "# import pandas as pd"
   ]
  },
  {
   "cell_type": "code",
   "execution_count": 19,
   "id": "710c1e8b",
   "metadata": {},
   "outputs": [],
   "source": [
    "# pd.read_excel(open(\"data/01_BI_SQL_Dataset.xlsx\", \"rb\"), sheet_name=\"order_item\").to_csv(\"data/01/order_item.csv\")\n",
    "# pd.read_excel(open(\"data/01_BI_SQL_Dataset.xlsx\", \"rb\"), sheet_name=\"first_purchase\").to_csv(\"data/01/first_purchase.csv\")\n",
    "# pd.read_excel(open(\"data/01_BI_SQL_Dataset.xlsx\", \"rb\"), sheet_name=\"shop_level_target\").to_csv(\"data/01/shop_level_target.csv\")\n",
    "# pd.read_excel(open(\"data/01_BI_SQL_Dataset.xlsx\", \"rb\"), sheet_name=\"kam_level_target\").to_csv(\"data/01/kam_level_target.csv\")\n",
    "# pd.read_excel(open(\"data/01_BI_SQL_Dataset.xlsx\", \"rb\"), sheet_name=\"weightage\").to_csv(\"data/01/weightage.csv\")\n",
    "# pd.read_excel(open(\"data/01_BI_SQL_Dataset.xlsx\", \"rb\"), sheet_name=\"partial_order_item_level\").to_csv(\"data/01/partial_order_item_level.csv\")\n",
    "# pd.read_excel(open(\"data/01_BI_SQL_Dataset.xlsx\", \"rb\"), sheet_name=\"item_category\").to_csv(\"data/01/item_category.csv\")"
   ]
  },
  {
   "cell_type": "code",
   "execution_count": 20,
   "id": "969440e5",
   "metadata": {},
   "outputs": [],
   "source": [
    "spark = SparkSession.builder\\\n",
    "                    .appName(\"sp-01-sql\")\\\n",
    "                    .getOrCreate()"
   ]
  },
  {
   "cell_type": "code",
   "execution_count": 21,
   "id": "d6613777",
   "metadata": {},
   "outputs": [],
   "source": [
    "datasets = [\"order_item\", \"first_purchase\", \"shop_level_target\", \"kam_level_target\", \"weightage\", \"partial_order_item_level\", \"item_category\",]"
   ]
  },
  {
   "cell_type": "code",
   "execution_count": 22,
   "id": "238855a6",
   "metadata": {},
   "outputs": [],
   "source": [
    "for dataset in datasets:\n",
    "    read_options = {\n",
    "        \"header\": \"true\", \n",
    "        \"inferSchema\": \"true\",\n",
    "    }\n",
    "\n",
    "    spark.read.format(\"csv\") \\\n",
    "                .options(**read_options) \\\n",
    "                .load(f\"data/01/{dataset}.csv\") \\\n",
    "                .createOrReplaceTempView(dataset)\n"
   ]
  },
  {
   "cell_type": "code",
   "execution_count": 23,
   "id": "b630dd50",
   "metadata": {},
   "outputs": [
    {
     "name": "stdout",
     "output_type": "stream",
     "text": [
      "+---------+--------------------+-----------+\n",
      "|namespace|           tableName|isTemporary|\n",
      "+---------+--------------------+-----------+\n",
      "|         |      first_purchase|       true|\n",
      "|         |       item_category|       true|\n",
      "|         |    kam_level_target|       true|\n",
      "|         |          order_item|       true|\n",
      "|         |partial_order_ite...|       true|\n",
      "|         |   shop_level_target|       true|\n",
      "|         |           weightage|       true|\n",
      "+---------+--------------------+-----------+\n",
      "\n"
     ]
    }
   ],
   "source": [
    "spark.sql(\"SHOW TABLES\").show()"
   ]
  },
  {
   "cell_type": "code",
   "execution_count": 24,
   "id": "11075dda",
   "metadata": {},
   "outputs": [],
   "source": [
    "query = \"\"\"\n",
    "\n",
    "WITH\n",
    "TRANSACTIONS AS (\n",
    "    SELECT\n",
    "        buyer_id,\n",
    "        DATE(create_datetime) AS dt,\n",
    "        cluster_orders_item\n",
    "    FROM \n",
    "        order_item\n",
    "    WHERE\n",
    "        DATE(create_datetime) BETWEEN \"2021-04-01\" AND \"2021-04-30\"\n",
    "),\n",
    "\n",
    "FIRST_TIME_BUY AS (\n",
    "    SELECT\n",
    "        buyer_id,\n",
    "        DATE(result_first_purchase_time) AS dt\n",
    "    FROM\n",
    "        first_purchase\n",
    "    WHERE\n",
    "        DATE(result_first_purchase_time) BETWEEN \"2021-04-01\" AND \"2021-04-30\"\n",
    "    \n",
    "),\n",
    "\n",
    "FILTERED_FIRST_TIME_BUY AS (\n",
    "    SELECT\n",
    "        FIRST_TIME_BUY.dt AS dt,\n",
    "        FIRST_TIME_BUY.buyer_id AS buyer_id\n",
    "    FROM\n",
    "        FIRST_TIME_BUY\n",
    "    LEFT JOIN\n",
    "        TRANSACTIONS\n",
    "        ON\n",
    "            FIRST_TIME_BUY.buyer_id = TRANSACTIONS.buyer_id\n",
    "    WHERE\n",
    "        cluster_orders_item = \"Fashion\"\n",
    ")\n",
    "\n",
    "SELECT\n",
    "    dt AS create_date,\n",
    "    COUNT(*) AS num_of_first_purchase_buyers\n",
    "FROM\n",
    "   FILTERED_FIRST_TIME_BUY\n",
    "GROUP BY\n",
    "    dt\n",
    "ORDER BY\n",
    "    dt ASC\n",
    "\"\"\""
   ]
  },
  {
   "cell_type": "code",
   "execution_count": 25,
   "id": "3e0963b1",
   "metadata": {},
   "outputs": [
    {
     "name": "stdout",
     "output_type": "stream",
     "text": [
      "+-----------+----------------------------+\n",
      "|create_date|num_of_first_purchase_buyers|\n",
      "+-----------+----------------------------+\n",
      "| 2021-04-13|                           1|\n",
      "| 2021-04-15|                           2|\n",
      "| 2021-04-25|                           1|\n",
      "+-----------+----------------------------+\n",
      "\n"
     ]
    }
   ],
   "source": [
    "spark.sql(query).show()"
   ]
  },
  {
   "cell_type": "code",
   "execution_count": 26,
   "id": "dde4c496",
   "metadata": {},
   "outputs": [],
   "source": [
    "query_2 = \"\"\"\n",
    "\n",
    "WITH\n",
    "TRANSACTIONS AS (\n",
    "    SELECT\n",
    "        buyer_id,\n",
    "        DATE(create_datetime) AS dt,\n",
    "        cluster_orders_item\n",
    "    FROM \n",
    "        order_item\n",
    "    WHERE\n",
    "        DATE(create_datetime) BETWEEN \"2021-04-01\" AND \"2021-04-30\"\n",
    "),\n",
    "\n",
    "FIRST_TIME_BUY AS (\n",
    "    SELECT\n",
    "        buyer_id,\n",
    "        DATE(result_first_purchase_time) AS dt\n",
    "    FROM\n",
    "        first_purchase\n",
    "    WHERE\n",
    "        DATE(result_first_purchase_time) BETWEEN \"2021-04-01\" AND \"2021-04-30\"\n",
    "    \n",
    "),\n",
    "\n",
    "FILTERED_FIRST_TIME_BUY AS (\n",
    "    SELECT\n",
    "        FIRST_TIME_BUY.dt AS dt,\n",
    "        FIRST_TIME_BUY.buyer_id AS buyer_id\n",
    "    FROM\n",
    "        FIRST_TIME_BUY\n",
    "    LEFT JOIN\n",
    "        TRANSACTIONS\n",
    "        ON\n",
    "            FIRST_TIME_BUY.buyer_id = TRANSACTIONS.buyer_id\n",
    "    WHERE\n",
    "        cluster_orders_item = \"Fashion\"\n",
    "),\n",
    "\n",
    "FINAL_FIRST_TIME_BUY AS (\n",
    "    SELECT\n",
    "        dt,\n",
    "        COUNT(*) AS num_of_first_purchase_buyers\n",
    "    FROM\n",
    "        FILTERED_FIRST_TIME_BUY\n",
    "    GROUP BY\n",
    "        dt\n",
    "),\n",
    "\n",
    "DATE_RANGE AS (\n",
    "    SELECT\n",
    "        EXPLODE(SEQUENCE(TO_DATE('2021-04-01'), \n",
    "        TO_DATE('2021-04-30'), INTERVAL 1 DAY)) AS create_date\n",
    ")\n",
    "\n",
    "SELECT\n",
    "    create_date,\n",
    "    COALESCE(num_of_first_purchase_buyers, 0) AS num_of_first_purchase_buyers\n",
    "FROM\n",
    "    DATE_RANGE\n",
    "LEFT JOIN\n",
    "    FINAL_FIRST_TIME_BUY\n",
    "    ON\n",
    "    DATE_RANGE.create_date = FINAL_FIRST_TIME_BUY.dt\n",
    "ORDER BY\n",
    "    create_date ASC\n",
    "\"\"\""
   ]
  },
  {
   "cell_type": "code",
   "execution_count": 27,
   "id": "66c80e07",
   "metadata": {},
   "outputs": [
    {
     "name": "stdout",
     "output_type": "stream",
     "text": [
      "+-----------+----------------------------+\n",
      "|create_date|num_of_first_purchase_buyers|\n",
      "+-----------+----------------------------+\n",
      "| 2021-04-01|                           0|\n",
      "| 2021-04-02|                           0|\n",
      "| 2021-04-03|                           0|\n",
      "| 2021-04-04|                           0|\n",
      "| 2021-04-05|                           0|\n",
      "| 2021-04-06|                           0|\n",
      "| 2021-04-07|                           0|\n",
      "| 2021-04-08|                           0|\n",
      "| 2021-04-09|                           0|\n",
      "| 2021-04-10|                           0|\n",
      "| 2021-04-11|                           0|\n",
      "| 2021-04-12|                           0|\n",
      "| 2021-04-13|                           1|\n",
      "| 2021-04-14|                           0|\n",
      "| 2021-04-15|                           2|\n",
      "| 2021-04-16|                           0|\n",
      "| 2021-04-17|                           0|\n",
      "| 2021-04-18|                           0|\n",
      "| 2021-04-19|                           0|\n",
      "| 2021-04-20|                           0|\n",
      "| 2021-04-21|                           0|\n",
      "| 2021-04-22|                           0|\n",
      "| 2021-04-23|                           0|\n",
      "| 2021-04-24|                           0|\n",
      "| 2021-04-25|                           1|\n",
      "| 2021-04-26|                           0|\n",
      "| 2021-04-27|                           0|\n",
      "| 2021-04-28|                           0|\n",
      "| 2021-04-29|                           0|\n",
      "| 2021-04-30|                           0|\n",
      "+-----------+----------------------------+\n",
      "\n"
     ]
    }
   ],
   "source": [
    "spark.sql(query_2).show(30)"
   ]
  },
  {
   "cell_type": "markdown",
   "id": "9ca658ba",
   "metadata": {},
   "source": [
    "# Q1.3"
   ]
  },
  {
   "cell_type": "code",
   "execution_count": 28,
   "id": "05a654d3",
   "metadata": {},
   "outputs": [
    {
     "name": "stdout",
     "output_type": "stream",
     "text": [
      "+---------+--------------------+-----------+\n",
      "|namespace|           tableName|isTemporary|\n",
      "+---------+--------------------+-----------+\n",
      "|         |      first_purchase|       true|\n",
      "|         |       item_category|       true|\n",
      "|         |    kam_level_target|       true|\n",
      "|         |          order_item|       true|\n",
      "|         |partial_order_ite...|       true|\n",
      "|         |   shop_level_target|       true|\n",
      "|         |           weightage|       true|\n",
      "+---------+--------------------+-----------+\n",
      "\n"
     ]
    }
   ],
   "source": [
    "spark.sql(\"SHOW TABLES\").show()"
   ]
  },
  {
   "cell_type": "code",
   "execution_count": 29,
   "id": "6f16da3f",
   "metadata": {},
   "outputs": [
    {
     "name": "stdout",
     "output_type": "stream",
     "text": [
      "+-------+-------+\n",
      "|item_id|cluster|\n",
      "+-------+-------+\n",
      "+-------+-------+\n",
      "\n"
     ]
    }
   ],
   "source": [
    "query = \"\"\"\n",
    "WITH\n",
    "TOTAL_ORDER AS (\n",
    "    SELECT \n",
    "        partial_order_item_level.order_id,\n",
    "        partial_order_item_level.item_id,\n",
    "        DATE(partial_order_item_level.create_timestamp) AS create_date,\n",
    "        item_category.cluster\n",
    "    FROM\n",
    "        partial_order_item_level\n",
    "    LEFT JOIN\n",
    "        item_category\n",
    "        ON\n",
    "            partial_order_item_level.item_id = item_category.item_id\n",
    "    WHERE\n",
    "        DATE(partial_order_item_level.create_timestamp) BETWEEN \"2024-07-01\" AND \"2024-07-31\"\n",
    "),\n",
    "\n",
    "CLUSTER_ITEM_COUNT AS (\n",
    "    SELECT\n",
    "        cluster,\n",
    "        item_id,\n",
    "        COUNT(DISTINCT order_id) AS total_item_per_cluster\n",
    "    FROM\n",
    "        TOTAL_ORDER\n",
    "    GROUP BY\n",
    "        cluster, item_id\n",
    "),\n",
    "\n",
    "CLUSTER_ORDER_COUNT AS (\n",
    "    SELECT\n",
    "        cluster,\n",
    "        COUNT(DISTINCT order_id) AS total_order_per_cluster\n",
    "    FROM\n",
    "        TOTAL_ORDER\n",
    "    GROUP BY\n",
    "        cluster\n",
    "),\n",
    "\n",
    "CALCULATE_CONTRIBUTION AS (\n",
    "    SELECT\n",
    "        CLUSTER_ITEM_COUNT.cluster,\n",
    "        item_id,\n",
    "        CLUSTER_ITEM_COUNT.total_item_per_cluster,\n",
    "        CLUSTER_ORDER_COUNT.total_order_per_cluster,\n",
    "        CLUSTER_ITEM_COUNT.total_item_per_cluster / CLUSTER_ORDER_COUNT.total_order_per_cluster AS contribution_rate\n",
    "    FROM\n",
    "        CLUSTER_ITEM_COUNT\n",
    "    LEFT JOIN\n",
    "        CLUSTER_ORDER_COUNT\n",
    "        ON\n",
    "            CLUSTER_ITEM_COUNT.cluster = CLUSTER_ORDER_COUNT.cluster \n",
    "),\n",
    "\n",
    "RANK_CONTRIBUTION AS (\n",
    "    SELECT\n",
    "        *,\n",
    "        RANK() OVER (PARTITION BY cluster ORDER BY contribution_rate DESC) AS contribution_rank\n",
    "    FROM\n",
    "        CALCULATE_CONTRIBUTION\n",
    ")\n",
    "\n",
    "SELECT\n",
    "    item_id,\n",
    "    cluster\n",
    "FROM\n",
    "    RANK_CONTRIBUTION\n",
    "WHERE\n",
    "    contribution_rate > 0.5\n",
    "ORDER BY\n",
    "    cluster, contribution_rank DESC\n",
    "\"\"\"\n",
    "spark.sql(query).show(50)"
   ]
  },
  {
   "cell_type": "code",
   "execution_count": 30,
   "id": "9613f70b",
   "metadata": {},
   "outputs": [
    {
     "name": "stdout",
     "output_type": "stream",
     "text": [
      "+---+-------------------+----------+---------+---------------+-----------+\n",
      "|_c0|   create_timestamp|  buyer_id|  shop_id|       order_id|    item_id|\n",
      "+---+-------------------+----------+---------+---------------+-----------+\n",
      "|  0|2024-07-01 00:00:01| 239569179|159375169|173462401278157|24373608531|\n",
      "|  1|2024-07-01 00:00:04| 119328142|  2947308|173462403232581|17999124990|\n",
      "|  2|2024-07-01 00:00:10|1278919050|139118063|173462410268531|17474241988|\n",
      "|  3|2024-07-01 00:00:26|1048757650|165561030|173462425282927| 3965607329|\n",
      "|  4|2024-07-01 00:00:30| 566548738| 43774111|173462430210862|18169086361|\n",
      "|  5|2024-07-01 00:00:49| 136339849|420466609|173462448286550|10099535909|\n",
      "|  6|2024-07-01 00:00:56|  82665348| 36641085|173462456289445|13172996330|\n",
      "|  7|2024-07-01 00:01:06| 143232789|  9940980|173462465261721|25382845612|\n",
      "|  8|2024-07-01 00:01:08| 786000874| 80618511|173462468217410|23976199827|\n",
      "|  9|2024-07-01 00:01:16| 146081114| 64535236|173462476213778| 6585327147|\n",
      "| 10|2024-07-01 00:01:43|  55214335|  4101933|173462502272523|28701071263|\n",
      "| 11|2024-07-01 00:01:51| 207095758|448235616|173462510243959|19300023343|\n",
      "| 12|2024-07-01 00:01:52|    162613|  6117514|173462511228114|25812244258|\n",
      "| 13|2024-07-01 00:01:53|  82834251|927407016|173462513290607|24057710984|\n",
      "| 14|2024-07-01 00:01:53|  82834251|927407016|173462513290607|24057710984|\n",
      "| 15|2024-07-01 00:01:53|  82834251|927407016|173462513290607|24104527231|\n",
      "| 16|2024-07-01 00:01:53|  82834251|927407016|173462513290607|25469424790|\n",
      "| 17|2024-07-01 00:01:53|  82834251|927407016|173462513290607|24104527231|\n",
      "| 18|2024-07-01 00:02:09|1200339335|935609611|173462529247756|24859759592|\n",
      "| 19|2024-07-01 00:03:02| 457542435|  5192913|173462581281750| 6021435898|\n",
      "+---+-------------------+----------+---------+---------------+-----------+\n",
      "only showing top 20 rows\n",
      "\n"
     ]
    }
   ],
   "source": [
    "query = \"\"\"\n",
    "SELECT *\n",
    "FROM\n",
    "    partial_order_item_level\n",
    "\"\"\"\n",
    "spark.sql(query).show()"
   ]
  },
  {
   "cell_type": "code",
   "execution_count": 31,
   "id": "76cb2729",
   "metadata": {},
   "outputs": [
    {
     "name": "stdout",
     "output_type": "stream",
     "text": [
      "+------------------------+\n",
      "|count(DISTINCT order_id)|\n",
      "+------------------------+\n",
      "|                      73|\n",
      "+------------------------+\n",
      "\n"
     ]
    }
   ],
   "source": [
    "query = \"\"\"\n",
    "SELECT \n",
    "    COUNT(DISTINCT order_id)\n",
    "FROM\n",
    "    partial_order_item_level\n",
    "\"\"\"\n",
    "spark.sql(query).show()"
   ]
  },
  {
   "cell_type": "code",
   "execution_count": 32,
   "id": "dd5cbeea",
   "metadata": {},
   "outputs": [
    {
     "name": "stdout",
     "output_type": "stream",
     "text": [
      "+---------------------------------+\n",
      "|count(DISTINCT order_id, item_id)|\n",
      "+---------------------------------+\n",
      "|                               89|\n",
      "+---------------------------------+\n",
      "\n"
     ]
    }
   ],
   "source": [
    "query = \"\"\"\n",
    "SELECT \n",
    "    COUNT(DISTINCT order_id, item_id)\n",
    "FROM\n",
    "    partial_order_item_level\n",
    "\"\"\"\n",
    "spark.sql(query).show()"
   ]
  },
  {
   "cell_type": "code",
   "execution_count": 33,
   "id": "5eca4be6",
   "metadata": {},
   "outputs": [
    {
     "name": "stdout",
     "output_type": "stream",
     "text": [
      "+-----------------------+\n",
      "|count(DISTINCT item_id)|\n",
      "+-----------------------+\n",
      "|                     89|\n",
      "+-----------------------+\n",
      "\n"
     ]
    }
   ],
   "source": [
    "query = \"\"\"\n",
    "SELECT \n",
    "    COUNT(DISTINCT item_id)\n",
    "FROM\n",
    "    partial_order_item_level\n",
    "\"\"\"\n",
    "spark.sql(query).show()"
   ]
  },
  {
   "cell_type": "code",
   "execution_count": 34,
   "id": "fe4878cf",
   "metadata": {},
   "outputs": [
    {
     "name": "stdout",
     "output_type": "stream",
     "text": [
      "+---------------+----------+--------+\n",
      "|       order_id|   item_id|count(1)|\n",
      "+---------------+----------+--------+\n",
      "|173463513220909|1237830184|       6|\n",
      "|173462593220301|2296384316|       4|\n",
      "|173463036282645|2378278433|       2|\n",
      "|173462685267365|3452298053|       2|\n",
      "|173462425282927|3965607329|       2|\n",
      "|173463673246420|4097708038|       2|\n",
      "|173463366261131|4735972976|       2|\n",
      "|173463409201770|5538292301|       2|\n",
      "|173462581281750|6021435898|       2|\n",
      "|173462476213778|6585327147|       2|\n",
      "|173463355206866|6730658842|       2|\n",
      "|173463907232386|6952476724|       2|\n",
      "|173463355206866|7230672083|       2|\n",
      "|173463106268213|7297953620|       2|\n",
      "|173463678266182|7497452982|       2|\n",
      "|173463907232386|7996634182|       2|\n",
      "|173463938280863|8980834747|       2|\n",
      "|173464243283288|8994199288|       2|\n",
      "|173463378216814|9927258415|       2|\n",
      "|173464045295892|9944277794|       2|\n",
      "+---------------+----------+--------+\n",
      "only showing top 20 rows\n",
      "\n"
     ]
    }
   ],
   "source": [
    "query = \"\"\"\n",
    "SELECT\n",
    "    order_id,\n",
    "    item_id,\n",
    "    COUNT(*)\n",
    "FROM\n",
    "    partial_order_item_level\n",
    "GROUP BY 1,2\n",
    "ORDER BY item_id\n",
    "\"\"\"\n",
    "spark.sql(query).show()"
   ]
  },
  {
   "cell_type": "code",
   "execution_count": 35,
   "id": "3e35feef",
   "metadata": {},
   "outputs": [
    {
     "name": "stdout",
     "output_type": "stream",
     "text": [
      "+---+-------------------+---------+--------+---------------+----------+\n",
      "|_c0|   create_timestamp| buyer_id| shop_id|       order_id|   item_id|\n",
      "+---+-------------------+---------+--------+---------------+----------+\n",
      "| 64|2024-07-01 00:18:34|158034339|73867041|173463513220909|1237830184|\n",
      "| 65|2024-07-01 00:18:34|158034339|73867041|173463513220909|1237830184|\n",
      "| 66|2024-07-01 00:18:34|158034339|73867041|173463513220909|1237830184|\n",
      "|164|2024-06-01 00:18:34|158034339|73867041|173463513220909|1237830184|\n",
      "|165|2024-06-01 00:18:34|158034339|73867041|173463513220909|1237830184|\n",
      "|166|2024-06-01 00:18:34|158034339|73867041|173463513220909|1237830184|\n",
      "+---+-------------------+---------+--------+---------------+----------+\n",
      "\n"
     ]
    }
   ],
   "source": [
    "query = \"\"\"\n",
    "SELECT \n",
    "    *\n",
    "FROM\n",
    "    partial_order_item_level\n",
    "WHERE\n",
    "    order_id = 173463513220909\n",
    "\"\"\"\n",
    "spark.sql(query).show()"
   ]
  },
  {
   "cell_type": "code",
   "execution_count": 36,
   "id": "efc2477a",
   "metadata": {},
   "outputs": [],
   "source": [
    "spark.stop()"
   ]
  },
  {
   "cell_type": "markdown",
   "id": "6594eb0b",
   "metadata": {
    "vscode": {
     "languageId": "plaintext"
    }
   },
   "source": [
    "# QA3: Pyspark"
   ]
  },
  {
   "cell_type": "code",
   "execution_count": 37,
   "id": "b6cd5324",
   "metadata": {},
   "outputs": [],
   "source": [
    "from pyspark.sql import SparkSession\n",
    "from pyspark.sql import Window\n",
    "from pyspark.sql.functions import *\n",
    "from pyspark.sql.functions import format_number\n",
    "# import pandas as pd"
   ]
  },
  {
   "cell_type": "code",
   "execution_count": 38,
   "id": "16aff468",
   "metadata": {},
   "outputs": [],
   "source": [
    "# pd.read_excel(open(\"data/03 Python test and Dataset.xlsx\", \"rb\"), sheet_name=\"pricing_project_dataset\").to_csv(\"data/pricing_project_dataset.csv\")\n",
    "# pd.read_excel(open(\"data/03 Python test and Dataset.xlsx\", \"rb\"), sheet_name=\"platform_number\").to_csv(\"data/platform_number.csv\")\n",
    "# pd.read_excel(open(\"data/03 Python test and Dataset.xlsx\", \"rb\"), sheet_name=\"exchange_rate\").to_csv(\"data/exchange_rate.csv\")"
   ]
  },
  {
   "cell_type": "code",
   "execution_count": 39,
   "id": "fb6a6ba0",
   "metadata": {},
   "outputs": [],
   "source": [
    "spark = SparkSession.builder \\\n",
    "                    .appName(\"sp-03-spark\") \\\n",
    "                    .master(\"local[8]\") \\\n",
    "                    .getOrCreate()\n",
    "\n",
    "# backup code of using jars method\n",
    "# .config(\"spark.jars\", \"src/spark-excel_2.13-3.5.1_0.20.4.jar\") \\\n",
    "# .config(\"spark.jars.packages\", \"com.crealytics:spark-excel_3.5.1:0.20.4\") \\"
   ]
  },
  {
   "cell_type": "code",
   "execution_count": 40,
   "id": "f5454fed",
   "metadata": {},
   "outputs": [],
   "source": [
    "read_options = {\n",
    "    \"header\": \"true\", \n",
    "    \"inferSchema\": \"true\",\n",
    "}\n",
    "\n",
    "data_pricing_path = \"data/pricing_project_dataset.csv\"\n",
    "data_platform_number_path = \"data/platform_number.csv\"\n",
    "\n",
    "df_pricing = spark.read.format(\"csv\") \\\n",
    "                        .options(**read_options) \\\n",
    "                        .load(data_pricing_path)\n",
    "\n",
    "df_platform_order = spark.read.format(\"csv\") \\\n",
    "                        .options(**read_options) \\\n",
    "                        .load(data_platform_number_path)"
   ]
  },
  {
   "cell_type": "code",
   "execution_count": 41,
   "id": "ac928871",
   "metadata": {},
   "outputs": [
    {
     "name": "stdout",
     "output_type": "stream",
     "text": [
      "+---+------+--------------+----------------+\n",
      "|_c0|region|platform order|platform_gmv_usd|\n",
      "+---+------+--------------+----------------+\n",
      "|  0|    ID|    1553364.13|  2.4388379495E8|\n",
      "|  1|    MY|     333184.27|   7.341683753E7|\n",
      "|  2|    PH|     392687.73|   7.538330311E7|\n",
      "|  3|    SG|     526181.77|   9.917029894E7|\n",
      "|  4|    TH|    1018358.54|  1.7340089962E8|\n",
      "+---+------+--------------+----------------+\n",
      "only showing top 5 rows\n",
      "\n"
     ]
    }
   ],
   "source": [
    "df_platform_order.show(5)"
   ]
  },
  {
   "cell_type": "code",
   "execution_count": 42,
   "id": "be747eb7",
   "metadata": {},
   "outputs": [
    {
     "name": "stdout",
     "output_type": "stream",
     "text": [
      "+---+------------+--------------+--------------+--------------+---------------+------------------+-------------------+----------------------+------------------+----------------------+------------------+------------+-----------------------------------+\n",
      "|_c0|grass_region|category_group|   seller_type|shopee_item_id|shopee_model_id|competitor_item_id|competitor_model_id|shopee_model_price_usd|shopee_model_price|competitor_model_price|    shopee_gmv_usd|shopee_order|shopee_model_competitiveness_status|\n",
      "+---+------------+--------------+--------------+--------------+---------------+------------------+-------------------+----------------------+------------------+----------------------+------------------+------------+-----------------------------------+\n",
      "|  0|          ID|   Electronics|Long Tail (LT)|    5646734211|     3953474697|        9153508336|          992466002|     50.33644918112619|            779233|                647903|  8758.53764413294|         174|                       Shopee > CPT|\n",
      "|  1|          SG|          FMCG|Long Tail (LT)|    3735125711|     6296885988|        3250973377|         3554673425|    60.001668790497476|                81|                    94|11120.737124187805|         187|                       Shopee < CPT|\n",
      "|  2|          TH|   Electronics|      Non-Mall|    2579813608|     1304588577|        4678400449|         2635346813|    18.069590206595336|               659|                   675|3178.8195634001613|         176|                       Shopee < CPT|\n",
      "|  3|          PH|          FMCG|Long Tail (LT)|    8699492214|     5735505766|        9052147161|         1100640033|    16.023394709474136|               906|                   861| 560.4057684150996|          35|                       Shopee > CPT|\n",
      "|  4|          TH|          FMCG|Long Tail (LT)|    4815010572|     2537451514|        1289693311|          330522796|    169.29818079979032|              6177|                  7004|1523.6594356816904|           9|                       Shopee < CPT|\n",
      "+---+------------+--------------+--------------+--------------+---------------+------------------+-------------------+----------------------+------------------+----------------------+------------------+------------+-----------------------------------+\n",
      "only showing top 5 rows\n",
      "\n"
     ]
    }
   ],
   "source": [
    "df_pricing.show(5)"
   ]
  },
  {
   "cell_type": "code",
   "execution_count": 43,
   "id": "d9db41f2",
   "metadata": {},
   "outputs": [],
   "source": [
    "clean_df_platform = df_platform_order.withColumnRenamed(\"platform order\", \"platform_order\")"
   ]
  },
  {
   "cell_type": "code",
   "execution_count": 44,
   "id": "0f7c3f53",
   "metadata": {},
   "outputs": [],
   "source": [
    "clean_df_pricing = df_pricing.withColumnRenamed(\"grass_region\", \"region\")"
   ]
  },
  {
   "cell_type": "code",
   "execution_count": 45,
   "id": "c52f3f71",
   "metadata": {},
   "outputs": [
    {
     "name": "stdout",
     "output_type": "stream",
     "text": [
      "+---+------+--------------+----------------+\n",
      "|_c0|region|platform_order|platform_gmv_usd|\n",
      "+---+------+--------------+----------------+\n",
      "|  0|    ID|    1553364.13|  2.4388379495E8|\n",
      "|  1|    MY|     333184.27|   7.341683753E7|\n",
      "|  2|    PH|     392687.73|   7.538330311E7|\n",
      "|  3|    SG|     526181.77|   9.917029894E7|\n",
      "|  4|    TH|    1018358.54|  1.7340089962E8|\n",
      "|  5|    VN|     413006.15|   7.454916352E7|\n",
      "+---+------+--------------+----------------+\n",
      "\n"
     ]
    }
   ],
   "source": [
    "clean_df_platform.show()"
   ]
  },
  {
   "cell_type": "code",
   "execution_count": 46,
   "id": "b6dea2a8",
   "metadata": {},
   "outputs": [
    {
     "name": "stdout",
     "output_type": "stream",
     "text": [
      "+---+------+--------------+--------------+--------------+---------------+------------------+-------------------+----------------------+------------------+----------------------+------------------+------------+-----------------------------------+\n",
      "|_c0|region|category_group|   seller_type|shopee_item_id|shopee_model_id|competitor_item_id|competitor_model_id|shopee_model_price_usd|shopee_model_price|competitor_model_price|    shopee_gmv_usd|shopee_order|shopee_model_competitiveness_status|\n",
      "+---+------+--------------+--------------+--------------+---------------+------------------+-------------------+----------------------+------------------+----------------------+------------------+------------+-----------------------------------+\n",
      "|  0|    ID|   Electronics|Long Tail (LT)|    5646734211|     3953474697|        9153508336|          992466002|     50.33644918112619|            779233|                647903|  8758.53764413294|         174|                       Shopee > CPT|\n",
      "|  1|    SG|          FMCG|Long Tail (LT)|    3735125711|     6296885988|        3250973377|         3554673425|    60.001668790497476|                81|                    94|11120.737124187805|         187|                       Shopee < CPT|\n",
      "|  2|    TH|   Electronics|      Non-Mall|    2579813608|     1304588577|        4678400449|         2635346813|    18.069590206595336|               659|                   675|3178.8195634001613|         176|                       Shopee < CPT|\n",
      "|  3|    PH|          FMCG|Long Tail (LT)|    8699492214|     5735505766|        9052147161|         1100640033|    16.023394709474136|               906|                   861| 560.4057684150996|          35|                       Shopee > CPT|\n",
      "|  4|    TH|          FMCG|Long Tail (LT)|    4815010572|     2537451514|        1289693311|          330522796|    169.29818079979032|              6177|                  7004|1523.6594356816904|           9|                       Shopee < CPT|\n",
      "|  5|    ID|          FMCG|  Cross Border|    2360234746|     8873059029|        4373636343|         6388067669|    304.81251774630823|           4718650|               4963058|   51513.313523465|         169|                       Shopee < CPT|\n",
      "|  6|    TH|   Electronics|      Non-Mall|    9800132511|     3580795314|        8493800350|           48609194|    19.566596843255944|               713|                   608|3869.2119002918885|         198|                       Shopee > CPT|\n",
      "|  7|    ID|     Lifestyle|  Cross Border|    4066670015|     3392849992|        6682615321|         6466430183|     40.37182674964558|            624976|                599679| 7024.697135105455|         174|                       Shopee > CPT|\n",
      "|  8|    MY|       Fashion|  Cross Border|    9831477701|      281518001|        8957608032|         9867486733|     8.315866318923247|                38|                    34|1443.2175814797035|         178|                       Shopee > CPT|\n",
      "|  9|    ID|       Fashion|  Cross Border|    1803766116|     9789480590|        9161538993|         6257218394|     318.4194059592953|           4929291|               4742978|19742.000710571363|          62|                       Shopee > CPT|\n",
      "| 10|    ID|          FMCG|          Mall|    1234281420|     1679483802|        9265679840|         4767229257|     287.9275942489545|           4457263|               4971937| 47220.12415619651|         164|                       Shopee < CPT|\n",
      "| 11|    TH|   Electronics|      Non-Mall|    9473251059|     3376251452|        5358320180|         4516817178|     182.2856550611755|              6650|                  6445| 10024.25554657202|          55|                       Shopee > CPT|\n",
      "| 12|    ID|   Electronics|Long Tail (LT)|    4122856018|     9863435317|        6059424808|         3147181346|     90.72816768136421|           1404517|               1680566|17329.075094473694|         191|                       Shopee < CPT|\n",
      "| 13|    MY|       Fashion|  Cross Border|    6237367159|     4649091553|        8954884470|         4018215748|    40.254202008120544|               188|                   174|  6859.33749399904|         171|                       Shopee > CPT|\n",
      "| 14|    ID|     Lifestyle|          Mall|    3799028368|     7173795667|        2341012093|         8720480772|      67.7667607343309|           1049063|               1258614|13214.514066083137|         195|                       Shopee < CPT|\n",
      "| 15|    VN|     Lifestyle|Long Tail (LT)|    4119550293|     3795401671|        9773422333|         2307363574|      180.840869627135|           4399406|               3927891|18264.926770116122|         101|                       Shopee > CPT|\n",
      "| 16|    ID|          FMCG|      Non-Mall|    6542930691|     1775280548|        1930877770|         1026468748|     18.05815058573803|            279549|                241861| 2925.418300442492|         162|                       Shopee > CPT|\n",
      "| 17|    ID|     Lifestyle|Long Tail (LT)|    8409776064|      437577722|        1295736902|         3819190689|    36.987206240119114|            572580|                656679| 5067.243306094765|         137|                       Shopee < CPT|\n",
      "| 18|    MY|       Fashion|          Mall|    4527008742|      851197014|        6006278155|         1637682945|    104.92782900419145|               491|                   578| 3876.246866165253|          37|                       Shopee < CPT|\n",
      "| 19|    PH|          FMCG|Long Tail (LT)|    3632341535|     9854080722|        1356766059|         7745376784|    20.941930448050428|              1184|                  1279| 2301.710730948678|         110|                       Shopee < CPT|\n",
      "+---+------+--------------+--------------+--------------+---------------+------------------+-------------------+----------------------+------------------+----------------------+------------------+------------+-----------------------------------+\n",
      "only showing top 20 rows\n",
      "\n"
     ]
    }
   ],
   "source": [
    "clean_df_pricing.show()"
   ]
  },
  {
   "cell_type": "markdown",
   "id": "b36272ab",
   "metadata": {},
   "source": [
    "## Q3.1"
   ]
  },
  {
   "cell_type": "code",
   "execution_count": 47,
   "id": "0d54aed8",
   "metadata": {},
   "outputs": [],
   "source": [
    "agg_df_pricing = clean_df_pricing.groupBy([\"region\"]) \\\n",
    "                                    .agg(sum(\"shopee_order\").alias(\"sum_shopee_order\"))"
   ]
  },
  {
   "cell_type": "code",
   "execution_count": 48,
   "id": "441a1ce0",
   "metadata": {},
   "outputs": [],
   "source": [
    "# clean_df_pricing = clean_df_pricing.groupBy([\"grass_region\", \"shopee_item_id\"]) \\\n",
    "#                                     .agg(\n",
    "#                                         sum(\"shopee_order\").alias(\"sum_shopee_order\"),\n",
    "#                                         # count(\"shopee_item_id\").alias(\"number_of_item\")\n",
    "#                                     ) \\\n",
    "#                                     .withColumnRenamed(\"grass_region\", \"region\")\n",
    "#                                     # .sort(\"number_of_item\", ascending=False)"
   ]
  },
  {
   "cell_type": "code",
   "execution_count": 49,
   "id": "7e6ed1d5",
   "metadata": {},
   "outputs": [
    {
     "name": "stdout",
     "output_type": "stream",
     "text": [
      "+------+----------------+\n",
      "|region|sum_shopee_order|\n",
      "+------+----------------+\n",
      "|    ID|          848601|\n",
      "|    MY|          207739|\n",
      "|    SG|          219624|\n",
      "|    PH|          202688|\n",
      "|    TH|          408024|\n",
      "+------+----------------+\n",
      "only showing top 5 rows\n",
      "\n"
     ]
    }
   ],
   "source": [
    "agg_df_pricing.show(5)"
   ]
  },
  {
   "cell_type": "code",
   "execution_count": 50,
   "id": "19790d0f",
   "metadata": {},
   "outputs": [
    {
     "name": "stdout",
     "output_type": "stream",
     "text": [
      "+---+------+--------------+----------------+\n",
      "|_c0|region|platform_order|platform_gmv_usd|\n",
      "+---+------+--------------+----------------+\n",
      "|  0|    ID|    1553364.13|  2.4388379495E8|\n",
      "|  1|    MY|     333184.27|   7.341683753E7|\n",
      "|  2|    PH|     392687.73|   7.538330311E7|\n",
      "|  3|    SG|     526181.77|   9.917029894E7|\n",
      "|  4|    TH|    1018358.54|  1.7340089962E8|\n",
      "|  5|    VN|     413006.15|   7.454916352E7|\n",
      "+---+------+--------------+----------------+\n",
      "\n"
     ]
    }
   ],
   "source": [
    "clean_df_platform.show()"
   ]
  },
  {
   "cell_type": "code",
   "execution_count": 51,
   "id": "44a291c8",
   "metadata": {},
   "outputs": [],
   "source": [
    "agg_df_pricing = agg_df_pricing.join(clean_df_platform, on=\"region\", how=\"left\")\\\n",
    "                                .withColumn(\"order_coverage_by_region\", format_number(col(\"sum_shopee_order\")/col(\"platform_order\"), 6)) \\\n",
    "                                .select(\"region\", \"order_coverage_by_region\")"
   ]
  },
  {
   "cell_type": "code",
   "execution_count": 52,
   "id": "8ea86994",
   "metadata": {},
   "outputs": [
    {
     "name": "stdout",
     "output_type": "stream",
     "text": [
      "+------+------------------------+\n",
      "|region|order_coverage_by_region|\n",
      "+------+------------------------+\n",
      "|    ID|                0.546299|\n",
      "|    MY|                0.623496|\n",
      "|    SG|                0.417392|\n",
      "|    PH|                0.516156|\n",
      "|    TH|                0.400668|\n",
      "|    VN|                0.516903|\n",
      "+------+------------------------+\n",
      "\n"
     ]
    }
   ],
   "source": [
    "agg_df_pricing.show()"
   ]
  },
  {
   "cell_type": "code",
   "execution_count": 53,
   "id": "c30f7ac1",
   "metadata": {},
   "outputs": [],
   "source": [
    "number_item_pricing = clean_df_pricing.groupBy([\"region\"]) \\\n",
    "                                    .agg(count(\"shopee_item_id\").alias(\"number_of_item_by_region\"))"
   ]
  },
  {
   "cell_type": "code",
   "execution_count": 54,
   "id": "5a555d49",
   "metadata": {},
   "outputs": [
    {
     "name": "stdout",
     "output_type": "stream",
     "text": [
      "+------+------------------------+\n",
      "|region|number_of_item_by_region|\n",
      "+------+------------------------+\n",
      "|    ID|                    8428|\n",
      "|    MY|                    2118|\n",
      "|    SG|                    2194|\n",
      "|    PH|                    2025|\n",
      "|    TH|                    4137|\n",
      "|    VN|                    2097|\n",
      "+------+------------------------+\n",
      "\n"
     ]
    }
   ],
   "source": [
    "number_item_pricing.show()"
   ]
  },
  {
   "cell_type": "code",
   "execution_count": 55,
   "id": "d4bbde28",
   "metadata": {},
   "outputs": [],
   "source": [
    "agg_df_pricing = agg_df_pricing.join(number_item_pricing, on=\"region\", how=\"left\")"
   ]
  },
  {
   "cell_type": "code",
   "execution_count": 56,
   "id": "8092d268",
   "metadata": {},
   "outputs": [],
   "source": [
    "# df_pricing.registerTempTable(\"local_price_competitive_by_sku\")"
   ]
  },
  {
   "cell_type": "code",
   "execution_count": 57,
   "id": "7fb316be",
   "metadata": {},
   "outputs": [
    {
     "name": "stdout",
     "output_type": "stream",
     "text": [
      "+---+------+--------------+--------------+--------------+---------------+------------------+-------------------+----------------------+------------------+----------------------+------------------+------------+-----------------------------------+\n",
      "|_c0|region|category_group|   seller_type|shopee_item_id|shopee_model_id|competitor_item_id|competitor_model_id|shopee_model_price_usd|shopee_model_price|competitor_model_price|    shopee_gmv_usd|shopee_order|shopee_model_competitiveness_status|\n",
      "+---+------+--------------+--------------+--------------+---------------+------------------+-------------------+----------------------+------------------+----------------------+------------------+------------+-----------------------------------+\n",
      "|  0|    ID|   Electronics|Long Tail (LT)|    5646734211|     3953474697|        9153508336|          992466002|     50.33644918112619|            779233|                647903|  8758.53764413294|         174|                       Shopee > CPT|\n",
      "|  1|    SG|          FMCG|Long Tail (LT)|    3735125711|     6296885988|        3250973377|         3554673425|    60.001668790497476|                81|                    94|11120.737124187805|         187|                       Shopee < CPT|\n",
      "|  2|    TH|   Electronics|      Non-Mall|    2579813608|     1304588577|        4678400449|         2635346813|    18.069590206595336|               659|                   675|3178.8195634001613|         176|                       Shopee < CPT|\n",
      "|  3|    PH|          FMCG|Long Tail (LT)|    8699492214|     5735505766|        9052147161|         1100640033|    16.023394709474136|               906|                   861| 560.4057684150996|          35|                       Shopee > CPT|\n",
      "|  4|    TH|          FMCG|Long Tail (LT)|    4815010572|     2537451514|        1289693311|          330522796|    169.29818079979032|              6177|                  7004|1523.6594356816904|           9|                       Shopee < CPT|\n",
      "|  5|    ID|          FMCG|  Cross Border|    2360234746|     8873059029|        4373636343|         6388067669|    304.81251774630823|           4718650|               4963058|   51513.313523465|         169|                       Shopee < CPT|\n",
      "|  6|    TH|   Electronics|      Non-Mall|    9800132511|     3580795314|        8493800350|           48609194|    19.566596843255944|               713|                   608|3869.2119002918885|         198|                       Shopee > CPT|\n",
      "|  7|    ID|     Lifestyle|  Cross Border|    4066670015|     3392849992|        6682615321|         6466430183|     40.37182674964558|            624976|                599679| 7024.697135105455|         174|                       Shopee > CPT|\n",
      "|  8|    MY|       Fashion|  Cross Border|    9831477701|      281518001|        8957608032|         9867486733|     8.315866318923247|                38|                    34|1443.2175814797035|         178|                       Shopee > CPT|\n",
      "|  9|    ID|       Fashion|  Cross Border|    1803766116|     9789480590|        9161538993|         6257218394|     318.4194059592953|           4929291|               4742978|19742.000710571363|          62|                       Shopee > CPT|\n",
      "| 10|    ID|          FMCG|          Mall|    1234281420|     1679483802|        9265679840|         4767229257|     287.9275942489545|           4457263|               4971937| 47220.12415619651|         164|                       Shopee < CPT|\n",
      "| 11|    TH|   Electronics|      Non-Mall|    9473251059|     3376251452|        5358320180|         4516817178|     182.2856550611755|              6650|                  6445| 10024.25554657202|          55|                       Shopee > CPT|\n",
      "| 12|    ID|   Electronics|Long Tail (LT)|    4122856018|     9863435317|        6059424808|         3147181346|     90.72816768136421|           1404517|               1680566|17329.075094473694|         191|                       Shopee < CPT|\n",
      "| 13|    MY|       Fashion|  Cross Border|    6237367159|     4649091553|        8954884470|         4018215748|    40.254202008120544|               188|                   174|  6859.33749399904|         171|                       Shopee > CPT|\n",
      "| 14|    ID|     Lifestyle|          Mall|    3799028368|     7173795667|        2341012093|         8720480772|      67.7667607343309|           1049063|               1258614|13214.514066083137|         195|                       Shopee < CPT|\n",
      "| 15|    VN|     Lifestyle|Long Tail (LT)|    4119550293|     3795401671|        9773422333|         2307363574|      180.840869627135|           4399406|               3927891|18264.926770116122|         101|                       Shopee > CPT|\n",
      "| 16|    ID|          FMCG|      Non-Mall|    6542930691|     1775280548|        1930877770|         1026468748|     18.05815058573803|            279549|                241861| 2925.418300442492|         162|                       Shopee > CPT|\n",
      "| 17|    ID|     Lifestyle|Long Tail (LT)|    8409776064|      437577722|        1295736902|         3819190689|    36.987206240119114|            572580|                656679| 5067.243306094765|         137|                       Shopee < CPT|\n",
      "| 18|    MY|       Fashion|          Mall|    4527008742|      851197014|        6006278155|         1637682945|    104.92782900419145|               491|                   578| 3876.246866165253|          37|                       Shopee < CPT|\n",
      "| 19|    PH|          FMCG|Long Tail (LT)|    3632341535|     9854080722|        1356766059|         7745376784|    20.941930448050428|              1184|                  1279| 2301.710730948678|         110|                       Shopee < CPT|\n",
      "+---+------+--------------+--------------+--------------+---------------+------------------+-------------------+----------------------+------------------+----------------------+------------------+------------+-----------------------------------+\n",
      "only showing top 20 rows\n",
      "\n"
     ]
    }
   ],
   "source": [
    "clean_df_pricing.show()"
   ]
  },
  {
   "cell_type": "code",
   "execution_count": 58,
   "id": "26b15e73",
   "metadata": {},
   "outputs": [],
   "source": [
    "intermediate_net_comp = clean_df_pricing.groupBy([\"region\", \"shopee_model_competitiveness_status\"]) \\\n",
    "                                        .agg(count(\"shopee_model_id\").alias(\"number_of_shopee_model_id\"))"
   ]
  },
  {
   "cell_type": "code",
   "execution_count": 59,
   "id": "78e42793",
   "metadata": {},
   "outputs": [
    {
     "name": "stdout",
     "output_type": "stream",
     "text": [
      "+------+-----------------------------------+-------------------------+\n",
      "|region|shopee_model_competitiveness_status|number_of_shopee_model_id|\n",
      "+------+-----------------------------------+-------------------------+\n",
      "|    VN|                       Shopee < CPT|                     1035|\n",
      "|    PH|                       Shopee > CPT|                     1006|\n",
      "|    PH|                       Shopee < CPT|                     1011|\n",
      "|    TH|                       Shopee > CPT|                     2045|\n",
      "|    SG|                       Shopee > CPT|                     1085|\n",
      "|    VN|                       Shopee > CPT|                     1062|\n",
      "|    TH|                       Shopee = CPT|                       23|\n",
      "|    SG|                       Shopee = CPT|                      159|\n",
      "|    SG|                       Shopee < CPT|                      950|\n",
      "|    PH|                       Shopee = CPT|                        8|\n",
      "|    ID|                       Shopee < CPT|                     4222|\n",
      "|    MY|                       Shopee < CPT|                     1029|\n",
      "|    MY|                       Shopee = CPT|                       66|\n",
      "|    TH|                       Shopee < CPT|                     2069|\n",
      "|    MY|                       Shopee > CPT|                     1023|\n",
      "|    ID|                       Shopee > CPT|                     4206|\n",
      "+------+-----------------------------------+-------------------------+\n",
      "\n"
     ]
    }
   ],
   "source": [
    "intermediate_net_comp.show()"
   ]
  },
  {
   "cell_type": "code",
   "execution_count": 60,
   "id": "f997ff9f",
   "metadata": {},
   "outputs": [],
   "source": [
    "win_comp = intermediate_net_comp.where(col(\"shopee_model_competitiveness_status\") == \"Shopee > CPT\").withColumnRenamed(\"number_of_shopee_model_id\", \"number_of_larger_shopee_model\")\n",
    "lose_comp = intermediate_net_comp.where(col(\"shopee_model_competitiveness_status\") == \"Shopee < CPT\").withColumnRenamed(\"number_of_shopee_model_id\", \"number_of_lower_shopee_model\")\n",
    "total_comp = clean_df_pricing.groupBy([\"region\"]).agg(count(\"shopee_model_id\").alias(\"total_shopee_model\"))"
   ]
  },
  {
   "cell_type": "code",
   "execution_count": 61,
   "id": "132a57fd",
   "metadata": {},
   "outputs": [],
   "source": [
    "final_net_comp = win_comp.join(lose_comp, on=\"region\", how=\"left\")\\\n",
    "                            .join(total_comp, on=\"region\", how=\"left\")\\\n",
    "                            .select(\"region\", \"number_of_larger_shopee_model\", \"number_of_lower_shopee_model\", \"total_shopee_model\")\\\n",
    "                            .withColumn(\"net_competitiveness\", format_number((col(\"number_of_lower_shopee_model\") - col(\"number_of_larger_shopee_model\")) / col(\"total_shopee_model\"), 6))\\\n",
    "                            .select(\"region\", \"net_competitiveness\")"
   ]
  },
  {
   "cell_type": "code",
   "execution_count": 62,
   "id": "98d47f04",
   "metadata": {},
   "outputs": [
    {
     "name": "stdout",
     "output_type": "stream",
     "text": [
      "+------+-------------------+\n",
      "|region|net_competitiveness|\n",
      "+------+-------------------+\n",
      "|    PH|           0.002469|\n",
      "|    TH|           0.005801|\n",
      "|    SG|          -0.061531|\n",
      "|    VN|          -0.012876|\n",
      "|    MY|           0.002833|\n",
      "|    ID|           0.001898|\n",
      "+------+-------------------+\n",
      "\n"
     ]
    }
   ],
   "source": [
    "final_net_comp.show()"
   ]
  },
  {
   "cell_type": "code",
   "execution_count": 63,
   "id": "d99fdaba",
   "metadata": {},
   "outputs": [],
   "source": [
    "final_net_comp = final_net_comp.join(agg_df_pricing, on=\"region\", how=\"left\")"
   ]
  },
  {
   "cell_type": "code",
   "execution_count": 64,
   "id": "21e0a0ab",
   "metadata": {},
   "outputs": [
    {
     "name": "stdout",
     "output_type": "stream",
     "text": [
      "+------+------------------------+-------------------+------------------------+\n",
      "|region|order_coverage_by_region|net_competitiveness|number_of_item_by_region|\n",
      "+------+------------------------+-------------------+------------------------+\n",
      "|    PH|                0.516156|           0.002469|                    2025|\n",
      "|    TH|                0.400668|           0.005801|                    4137|\n",
      "|    SG|                0.417392|          -0.061531|                    2194|\n",
      "|    VN|                0.516903|          -0.012876|                    2097|\n",
      "|    MY|                0.623496|           0.002833|                    2118|\n",
      "|    ID|                0.546299|           0.001898|                    8428|\n",
      "+------+------------------------+-------------------+------------------------+\n",
      "\n"
     ]
    }
   ],
   "source": [
    "final_net_comp.select(\"region\", \"order_coverage_by_region\", \"net_competitiveness\", \"number_of_item_by_region\").show()"
   ]
  },
  {
   "cell_type": "markdown",
   "id": "c82200e6",
   "metadata": {},
   "source": [
    "## Q3.2"
   ]
  },
  {
   "cell_type": "code",
   "execution_count": 65,
   "id": "21fdd267",
   "metadata": {},
   "outputs": [
    {
     "name": "stdout",
     "output_type": "stream",
     "text": [
      "+---+------+--------------+--------------+--------------+---------------+------------------+-------------------+----------------------+------------------+----------------------+------------------+------------+-----------------------------------+\n",
      "|_c0|region|category_group|   seller_type|shopee_item_id|shopee_model_id|competitor_item_id|competitor_model_id|shopee_model_price_usd|shopee_model_price|competitor_model_price|    shopee_gmv_usd|shopee_order|shopee_model_competitiveness_status|\n",
      "+---+------+--------------+--------------+--------------+---------------+------------------+-------------------+----------------------+------------------+----------------------+------------------+------------+-----------------------------------+\n",
      "|  0|    ID|   Electronics|Long Tail (LT)|    5646734211|     3953474697|        9153508336|          992466002|     50.33644918112619|            779233|                647903|  8758.53764413294|         174|                       Shopee > CPT|\n",
      "|  1|    SG|          FMCG|Long Tail (LT)|    3735125711|     6296885988|        3250973377|         3554673425|    60.001668790497476|                81|                    94|11120.737124187805|         187|                       Shopee < CPT|\n",
      "|  2|    TH|   Electronics|      Non-Mall|    2579813608|     1304588577|        4678400449|         2635346813|    18.069590206595336|               659|                   675|3178.8195634001613|         176|                       Shopee < CPT|\n",
      "|  3|    PH|          FMCG|Long Tail (LT)|    8699492214|     5735505766|        9052147161|         1100640033|    16.023394709474136|               906|                   861| 560.4057684150996|          35|                       Shopee > CPT|\n",
      "|  4|    TH|          FMCG|Long Tail (LT)|    4815010572|     2537451514|        1289693311|          330522796|    169.29818079979032|              6177|                  7004|1523.6594356816904|           9|                       Shopee < CPT|\n",
      "|  5|    ID|          FMCG|  Cross Border|    2360234746|     8873059029|        4373636343|         6388067669|    304.81251774630823|           4718650|               4963058|   51513.313523465|         169|                       Shopee < CPT|\n",
      "|  6|    TH|   Electronics|      Non-Mall|    9800132511|     3580795314|        8493800350|           48609194|    19.566596843255944|               713|                   608|3869.2119002918885|         198|                       Shopee > CPT|\n",
      "|  7|    ID|     Lifestyle|  Cross Border|    4066670015|     3392849992|        6682615321|         6466430183|     40.37182674964558|            624976|                599679| 7024.697135105455|         174|                       Shopee > CPT|\n",
      "|  8|    MY|       Fashion|  Cross Border|    9831477701|      281518001|        8957608032|         9867486733|     8.315866318923247|                38|                    34|1443.2175814797035|         178|                       Shopee > CPT|\n",
      "|  9|    ID|       Fashion|  Cross Border|    1803766116|     9789480590|        9161538993|         6257218394|     318.4194059592953|           4929291|               4742978|19742.000710571363|          62|                       Shopee > CPT|\n",
      "| 10|    ID|          FMCG|          Mall|    1234281420|     1679483802|        9265679840|         4767229257|     287.9275942489545|           4457263|               4971937| 47220.12415619651|         164|                       Shopee < CPT|\n",
      "| 11|    TH|   Electronics|      Non-Mall|    9473251059|     3376251452|        5358320180|         4516817178|     182.2856550611755|              6650|                  6445| 10024.25554657202|          55|                       Shopee > CPT|\n",
      "| 12|    ID|   Electronics|Long Tail (LT)|    4122856018|     9863435317|        6059424808|         3147181346|     90.72816768136421|           1404517|               1680566|17329.075094473694|         191|                       Shopee < CPT|\n",
      "| 13|    MY|       Fashion|  Cross Border|    6237367159|     4649091553|        8954884470|         4018215748|    40.254202008120544|               188|                   174|  6859.33749399904|         171|                       Shopee > CPT|\n",
      "| 14|    ID|     Lifestyle|          Mall|    3799028368|     7173795667|        2341012093|         8720480772|      67.7667607343309|           1049063|               1258614|13214.514066083137|         195|                       Shopee < CPT|\n",
      "| 15|    VN|     Lifestyle|Long Tail (LT)|    4119550293|     3795401671|        9773422333|         2307363574|      180.840869627135|           4399406|               3927891|18264.926770116122|         101|                       Shopee > CPT|\n",
      "| 16|    ID|          FMCG|      Non-Mall|    6542930691|     1775280548|        1930877770|         1026468748|     18.05815058573803|            279549|                241861| 2925.418300442492|         162|                       Shopee > CPT|\n",
      "| 17|    ID|     Lifestyle|Long Tail (LT)|    8409776064|      437577722|        1295736902|         3819190689|    36.987206240119114|            572580|                656679| 5067.243306094765|         137|                       Shopee < CPT|\n",
      "| 18|    MY|       Fashion|          Mall|    4527008742|      851197014|        6006278155|         1637682945|    104.92782900419145|               491|                   578| 3876.246866165253|          37|                       Shopee < CPT|\n",
      "| 19|    PH|          FMCG|Long Tail (LT)|    3632341535|     9854080722|        1356766059|         7745376784|    20.941930448050428|              1184|                  1279| 2301.710730948678|         110|                       Shopee < CPT|\n",
      "+---+------+--------------+--------------+--------------+---------------+------------------+-------------------+----------------------+------------------+----------------------+------------------+------------+-----------------------------------+\n",
      "only showing top 20 rows\n",
      "\n"
     ]
    }
   ],
   "source": [
    "clean_df_pricing.show()"
   ]
  },
  {
   "cell_type": "code",
   "execution_count": 66,
   "id": "48d86515",
   "metadata": {},
   "outputs": [
    {
     "name": "stdout",
     "output_type": "stream",
     "text": [
      "+--------------+---------------+-----------------------------------+\n",
      "|shopee_item_id|shopee_model_id|shopee_model_competitiveness_status|\n",
      "+--------------+---------------+-----------------------------------+\n",
      "|        580861|     9019764370|                       Shopee > CPT|\n",
      "|       1323167|     6397942095|                       Shopee < CPT|\n",
      "|       1837669|     8342684624|                       Shopee < CPT|\n",
      "|       2650112|     7803527018|                       Shopee < CPT|\n",
      "|       2666411|     3127858767|                       Shopee < CPT|\n",
      "|       2794532|     8859393605|                       Shopee < CPT|\n",
      "|       2996790|     7322469724|                       Shopee > CPT|\n",
      "|       3202936|     8829997338|                       Shopee < CPT|\n",
      "|       3239333|      747032931|                       Shopee > CPT|\n",
      "|       3375995|     5926043907|                       Shopee > CPT|\n",
      "|       3458546|     6882920226|                       Shopee < CPT|\n",
      "|       3574775|     7582427211|                       Shopee > CPT|\n",
      "|       4105705|     5039216393|                       Shopee > CPT|\n",
      "|       4938788|     6720638609|                       Shopee > CPT|\n",
      "|       4981137|     5416114232|                       Shopee < CPT|\n",
      "|       5344603|     1102710683|                       Shopee < CPT|\n",
      "|       8502911|     5396592913|                       Shopee < CPT|\n",
      "|       8638775|     3677966088|                       Shopee < CPT|\n",
      "|       8675095|     8701924812|                       Shopee > CPT|\n",
      "|       9171415|     5085908210|                       Shopee < CPT|\n",
      "+--------------+---------------+-----------------------------------+\n",
      "only showing top 20 rows\n",
      "\n"
     ]
    }
   ],
   "source": [
    "clean_df_pricing.select(\"shopee_item_id\", \"shopee_model_id\", \"shopee_model_competitiveness_status\") \\\n",
    "                .withColumn(\"new_cpt_status\", \n",
    "                    when(col(\"shopee_model_competitiveness_status\") == \"Shopee < CPT\", 1) \\\n",
    "                    .when(col(\"shopee_model_competitiveness_status\") == \"Shopee = CPT\", 2) \\\n",
    "                    .when(col(\"shopee_model_competitiveness_status\") == \"Shopee > CPT\", 3) \\\n",
    "                    .otherwise(4)\n",
    "                )\\\n",
    "                .select(\n",
    "                    \"shopee_item_id\",\n",
    "                    \"shopee_model_id\",\n",
    "                    \"shopee_model_competitiveness_status\",\n",
    "                    \"new_cpt_status\",\n",
    "                    min(\"new_cpt_status\").over(Window.partitionBy([\"shopee_item_id\", \"shopee_model_id\"])).alias(\"priority\")\n",
    "                )\\\n",
    "                .where(col(\"new_cpt_status\") == col(\"priority\"))\\\n",
    "                .select(\n",
    "                    \"shopee_item_id\",\n",
    "                    \"shopee_model_id\",\n",
    "                    \"shopee_model_competitiveness_status\"\n",
    "                ) \\\n",
    "                .show()"
   ]
  },
  {
   "cell_type": "markdown",
   "id": "6d7f98a7",
   "metadata": {},
   "source": [
    "## Q3.3"
   ]
  },
  {
   "cell_type": "code",
   "execution_count": 67,
   "id": "23ad1a94",
   "metadata": {},
   "outputs": [],
   "source": [
    "calculate_order = clean_df_pricing.select(\"region\", \"shopee_item_id\", \"shopee_model_id\", \"shopee_order\")"
   ]
  },
  {
   "cell_type": "code",
   "execution_count": 68,
   "id": "7a61b8fa",
   "metadata": {},
   "outputs": [
    {
     "name": "stdout",
     "output_type": "stream",
     "text": [
      "+------+--------------+---------------+------------+\n",
      "|region|shopee_item_id|shopee_model_id|shopee_order|\n",
      "+------+--------------+---------------+------------+\n",
      "|    ID|    5646734211|     3953474697|         174|\n",
      "|    SG|    3735125711|     6296885988|         187|\n",
      "+------+--------------+---------------+------------+\n",
      "only showing top 2 rows\n",
      "\n"
     ]
    }
   ],
   "source": [
    "calculate_order.show(2)"
   ]
  },
  {
   "cell_type": "code",
   "execution_count": 69,
   "id": "3bbf3ac6",
   "metadata": {},
   "outputs": [],
   "source": [
    "calculate_platform = clean_df_platform.select(\"region\", \"platform_order\")"
   ]
  },
  {
   "cell_type": "code",
   "execution_count": 70,
   "id": "db477415",
   "metadata": {},
   "outputs": [
    {
     "name": "stdout",
     "output_type": "stream",
     "text": [
      "+------+--------------+\n",
      "|region|platform_order|\n",
      "+------+--------------+\n",
      "|    ID|    1553364.13|\n",
      "|    MY|     333184.27|\n",
      "+------+--------------+\n",
      "only showing top 2 rows\n",
      "\n"
     ]
    }
   ],
   "source": [
    "calculate_platform.show(2)"
   ]
  },
  {
   "cell_type": "code",
   "execution_count": 71,
   "id": "d854a0db",
   "metadata": {},
   "outputs": [],
   "source": [
    "final_order = calculate_order.groupBy([\"region\", \"shopee_item_id\", \"shopee_model_id\"])\\\n",
    "                            .agg(sum(\"shopee_order\").alias(\"sum_shopee_order\")) \\\n",
    "                            .join(calculate_platform, on=\"region\", how=\"left\")\\\n",
    "                            .withColumn(\"contribute_ratio\", format_number(col(\"sum_shopee_order\") / col(\"platform_order\"), 10)) \\\n",
    "                            .withColumn(\"order_threshold\", format_number(col(\"sum_shopee_order\")*0.3, 0)) \\\n",
    "                            .withColumn(\"contribution_rank\", row_number().over(Window.partitionBy([\"region\", \"shopee_item_id\", \"shopee_model_id\"]).orderBy(col(\"contribute_ratio\").desc()))) \\\n",
    "                            .where(col(\"contribution_rank\") <= col(\"order_threshold\"))"
   ]
  },
  {
   "cell_type": "code",
   "execution_count": 72,
   "id": "10b16996",
   "metadata": {},
   "outputs": [
    {
     "name": "stdout",
     "output_type": "stream",
     "text": [
      "+------+----------------------+\n",
      "|region|number_of_item_tops_30|\n",
      "+------+----------------------+\n",
      "|    ID|                  8382|\n",
      "|    MY|                  2111|\n",
      "|    SG|                  2186|\n",
      "|    PH|                  2012|\n",
      "|    TH|                  4111|\n",
      "|    VN|                  2088|\n",
      "+------+----------------------+\n",
      "\n"
     ]
    }
   ],
   "source": [
    "final_order.groupBy([\"region\"])\\\n",
    "            .agg(\n",
    "                count_distinct(\"shopee_item_id\").alias(\"number_of_item_tops_30\")\n",
    "            ) \\\n",
    "            .show()"
   ]
  },
  {
   "cell_type": "markdown",
   "id": "42519daa",
   "metadata": {},
   "source": [
    "## Q3.5"
   ]
  },
  {
   "cell_type": "code",
   "execution_count": 73,
   "id": "197d1e0e",
   "metadata": {},
   "outputs": [
    {
     "data": {
      "text/plain": [
       "20999"
      ]
     },
     "execution_count": 73,
     "metadata": {},
     "output_type": "execute_result"
    }
   ],
   "source": [
    "clean_df_pricing.count()"
   ]
  },
  {
   "cell_type": "code",
   "execution_count": 74,
   "id": "f0bc88b6",
   "metadata": {},
   "outputs": [
    {
     "data": {
      "text/plain": [
       "20890"
      ]
     },
     "execution_count": 74,
     "metadata": {},
     "output_type": "execute_result"
    }
   ],
   "source": [
    "final_order.count()"
   ]
  },
  {
   "cell_type": "code",
   "execution_count": 75,
   "id": "a4bd26e0",
   "metadata": {},
   "outputs": [
    {
     "name": "stdout",
     "output_type": "stream",
     "text": [
      "+------+--------------+---------------+----------------+--------------+----------------+---------------+-----------------+\n",
      "|region|shopee_item_id|shopee_model_id|sum_shopee_order|platform_order|contribute_ratio|order_threshold|contribution_rank|\n",
      "+------+--------------+---------------+----------------+--------------+----------------+---------------+-----------------+\n",
      "|    ID|        580861|     9019764370|             178|    1553364.13|    0.0001145900|             53|                1|\n",
      "|    ID|       1837669|     8342684624|              42|    1553364.13|    0.0000270381|             13|                1|\n",
      "|    ID|       2666411|     3127858767|             137|    1553364.13|    0.0000881957|             41|                1|\n",
      "|    ID|       3375995|     5926043907|              32|    1553364.13|    0.0000206004|             10|                1|\n",
      "|    ID|       3458546|     6882920226|              38|    1553364.13|    0.0000244630|             11|                1|\n",
      "|    ID|       4105705|     5039216393|              35|    1553364.13|    0.0000225317|             10|                1|\n",
      "|    ID|       4981137|     5416114232|              20|    1553364.13|    0.0000128753|              6|                1|\n",
      "|    ID|       5344603|     1102710683|              36|    1553364.13|    0.0000231755|             11|                1|\n",
      "|    ID|       8502911|     5396592913|             132|    1553364.13|    0.0000849769|             40|                1|\n",
      "|    ID|       8638775|     3677966088|             106|    1553364.13|    0.0000682390|             32|                1|\n",
      "|    ID|       8675095|     8701924812|             115|    1553364.13|    0.0000740329|             34|                1|\n",
      "|    ID|      16841850|     5460882257|              76|    1553364.13|    0.0000489261|             23|                1|\n",
      "|    ID|      17295329|     3385597982|              43|    1553364.13|    0.0000276819|             13|                1|\n",
      "|    ID|      19268602|     3270209179|              19|    1553364.13|    0.0000122315|              6|                1|\n",
      "|    ID|      23050817|     1288168891|              91|    1553364.13|    0.0000585825|             27|                1|\n",
      "|    ID|      24291938|     1555323222|              95|    1553364.13|    0.0000611576|             28|                1|\n",
      "|    ID|      24541814|     8558845195|              53|    1553364.13|    0.0000341195|             16|                1|\n",
      "|    ID|      24922508|     2816531062|              74|    1553364.13|    0.0000476385|             22|                1|\n",
      "|    ID|      26064561|     3334623521|              36|    1553364.13|    0.0000231755|             11|                1|\n",
      "|    ID|      27057628|     5536794164|              36|    1553364.13|    0.0000231755|             11|                1|\n",
      "+------+--------------+---------------+----------------+--------------+----------------+---------------+-----------------+\n",
      "only showing top 20 rows\n",
      "\n"
     ]
    }
   ],
   "source": [
    "final_order.show()"
   ]
  },
  {
   "cell_type": "code",
   "execution_count": 76,
   "id": "525ed131",
   "metadata": {},
   "outputs": [],
   "source": [
    "top_30_model = final_order.select(\"region\", \"shopee_item_id\", \"shopee_model_id\")\\\n",
    "                            .withColumn(\"is_top_30_model\", lit(1))\n",
    "clean_df_pricing.join(top_30_model, on=[\"region\", \"shopee_item_id\", \"shopee_model_id\"], how=\"left\") \\\n",
    "                .fillna({\"is_top_30_model\": 0}) \\\n",
    "                .drop(\"_c0\") \\\n",
    "                .createOrReplaceTempView(\"local_price_competitive_by_sku\")\n",
    "\n",
    "                # .where(col(\"is_top_30_model\").isNull()) \\"
   ]
  },
  {
   "cell_type": "code",
   "execution_count": 77,
   "id": "d76e66b3",
   "metadata": {},
   "outputs": [],
   "source": [
    "spark.stop()"
   ]
  }
 ],
 "metadata": {
  "kernelspec": {
   "display_name": "venv",
   "language": "python",
   "name": "python3"
  },
  "language_info": {
   "codemirror_mode": {
    "name": "ipython",
    "version": 3
   },
   "file_extension": ".py",
   "mimetype": "text/x-python",
   "name": "python",
   "nbconvert_exporter": "python",
   "pygments_lexer": "ipython3",
   "version": "3.13.2"
  }
 },
 "nbformat": 4,
 "nbformat_minor": 5
}
